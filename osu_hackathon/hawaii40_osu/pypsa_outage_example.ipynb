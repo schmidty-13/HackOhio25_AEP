{
 "cells": [
  {
   "cell_type": "markdown",
   "id": "d1bbc984-0bef-431f-b1d2-e07aa330dd45",
   "metadata": {},
   "source": [
    "# PyPSA Outage Examples\n",
    "\n",
    "Take some example outages on our Hawaii40 case. Notice how the load changes in the network"
   ]
  },
  {
   "cell_type": "code",
   "execution_count": 24,
   "id": "1bfb256e-e053-4a95-b1c7-ce7ba5b6e165",
   "metadata": {},
   "outputs": [],
   "source": [
    "import pandas as pd\n",
    "import io\n",
    "import pypsa"
   ]
  },
  {
   "cell_type": "code",
   "execution_count": 25,
   "id": "a7605033-e00d-431a-879a-c9e49a6a5b12",
   "metadata": {},
   "outputs": [],
   "source": [
    "# Linear powerflow .lpf() is an approximation of full powerflow. It may make be useful if have convergence issues\n",
    "USE_LPF = False"
   ]
  },
  {
   "cell_type": "code",
   "execution_count": 26,
   "id": "c568cad1-e8fa-43a1-b79f-296ecdaa2d3f",
   "metadata": {},
   "outputs": [],
   "source": [
    "def check_pf(info):\n",
    "    converged = info.converged.any().any()\n",
    "    max_error = info.error.max().max()\n",
    "    print(f\"Sim converged: {converged}\")\n",
    "    print(f\"Max error: {max_error:.2e}\")\n",
    "\n",
    "    if ~converged:\n",
    "        raise Exception(\"Sim didn't convert - results are garbage. Change to lpf()\")"
   ]
  },
  {
   "cell_type": "markdown",
   "id": "9cf3a56b-5398-4e83-a2a7-a4d91e19eedf",
   "metadata": {},
   "source": [
    "## Load the model"
   ]
  },
  {
   "cell_type": "code",
   "execution_count": 27,
   "id": "b639428e-1081-4c13-9a52-1daee369fce8",
   "metadata": {},
   "outputs": [
    {
     "name": "stderr",
     "output_type": "stream",
     "text": [
      "WARNING:pypsa.network.io:Importing network from PyPSA version v0.35.2 while current version is v1.0.1. Read the release notes at `https://go.pypsa.org/release-notes` to prepare your network for import.\n",
      "INFO:pypsa.network.io:Imported network 'Unnamed Network' has buses, generators, lines, loads, shunt_impedances, transformers\n",
      "INFO:pypsa.network.power_flow:Performing non-linear load-flow on AC sub-network <pypsa.networks.SubNetwork object at 0x000001A24A3487A0> for snapshots Index(['now'], dtype='object', name='snapshot')\n"
     ]
    }
   ],
   "source": [
    "# If we run lpf() again, the old results stick around L48 which is inactive.\n",
    "# We can start from new and completely discard the old results gone\n",
    "network = pypsa.Network()\n",
    "network.import_from_csv_folder('csv')\n",
    "if USE_LPF:\n",
    "    network.lpf() \n",
    "else:\n",
    "    network.pf() "
   ]
  },
  {
   "cell_type": "markdown",
   "id": "9dc60019-63a6-48ad-a21c-851eceaf80d7",
   "metadata": {},
   "source": [
    "## Take an outages and solve\n",
    "\n",
    "Let's take an outage on \n",
    "```\n",
    "L48 | 19 - 23 | PEARL CITY69 - WAIPAHU69 #1\n",
    "```\n",
    "\n",
    "Then check to see if the parallel lines, or any other line, overloads.\n",
    "```\n",
    "L49 | 19 - 23 | PEARL CITY69 - WAIPAHU69 #2\n",
    "L50 | 19 - 23 | PEARL CITY69 - WAIPAHU69 #3\n",
    "L51 | 19 - 23 | PEARL CITY69 - WAIPAHU69 #4\n",
    "```"
   ]
  },
  {
   "cell_type": "code",
   "execution_count": 28,
   "id": "5985df9b-cc17-49ed-b2f7-6ab31af8a85f",
   "metadata": {},
   "outputs": [],
   "source": [
    "# Put the nominal ratings in their own dataframe for later\n",
    "s_nom = network.lines[['s_nom']]\n",
    "# s_nom.head()"
   ]
  },
  {
   "cell_type": "code",
   "execution_count": 29,
   "id": "e12bc9b3-909a-4270-8be1-b2b4204183c4",
   "metadata": {},
   "outputs": [
    {
     "data": {
      "text/html": [
       "<div>\n",
       "<style scoped>\n",
       "    .dataframe tbody tr th:only-of-type {\n",
       "        vertical-align: middle;\n",
       "    }\n",
       "\n",
       "    .dataframe tbody tr th {\n",
       "        vertical-align: top;\n",
       "    }\n",
       "\n",
       "    .dataframe thead th {\n",
       "        text-align: right;\n",
       "    }\n",
       "</style>\n",
       "<table border=\"1\" class=\"dataframe\">\n",
       "  <thead>\n",
       "    <tr style=\"text-align: right;\">\n",
       "      <th></th>\n",
       "      <th>s_nom</th>\n",
       "    </tr>\n",
       "    <tr>\n",
       "      <th>name</th>\n",
       "      <th></th>\n",
       "    </tr>\n",
       "  </thead>\n",
       "  <tbody>\n",
       "    <tr>\n",
       "      <th>L48</th>\n",
       "      <td>96.0</td>\n",
       "    </tr>\n",
       "    <tr>\n",
       "      <th>L49</th>\n",
       "      <td>96.0</td>\n",
       "    </tr>\n",
       "    <tr>\n",
       "      <th>L50</th>\n",
       "      <td>96.0</td>\n",
       "    </tr>\n",
       "    <tr>\n",
       "      <th>L51</th>\n",
       "      <td>96.0</td>\n",
       "    </tr>\n",
       "  </tbody>\n",
       "</table>\n",
       "</div>"
      ],
      "text/plain": [
       "      s_nom\n",
       "name       \n",
       "L48    96.0\n",
       "L49    96.0\n",
       "L50    96.0\n",
       "L51    96.0"
      ]
     },
     "execution_count": 29,
     "metadata": {},
     "output_type": "execute_result"
    }
   ],
   "source": [
    "# Get the nominal rating of the lines care about\n",
    "network.lines[['s_nom']].loc[['L48', 'L49', 'L50', 'L51']]"
   ]
  },
  {
   "cell_type": "code",
   "execution_count": 30,
   "id": "b830dd7c-e530-4623-ad16-e9693997ab61",
   "metadata": {},
   "outputs": [
    {
     "data": {
      "text/plain": [
       "name\n",
       "L48   -77.532753\n",
       "L49   -77.532753\n",
       "L50   -77.532753\n",
       "L51   -77.532753\n",
       "Name: now, dtype: float64"
      ]
     },
     "execution_count": 30,
     "metadata": {},
     "output_type": "execute_result"
    }
   ],
   "source": [
    "# Get the loading before the outage - should be about 77 MVA \n",
    "# Remember positive and negative is just the direction of the flow. \n",
    "# When we think about loading, we look at the magnitude\n",
    "network.lines_t['p0'].loc['now'][['L48', 'L49', 'L50', 'L51']]"
   ]
  },
  {
   "cell_type": "code",
   "execution_count": 31,
   "id": "2cccc3ca-55bd-41d2-8deb-4f10ad1f81de",
   "metadata": {
    "scrolled": true
   },
   "outputs": [
    {
     "name": "stderr",
     "output_type": "stream",
     "text": [
      "INFO:pypsa.network.power_flow:Performing non-linear load-flow on AC sub-network <pypsa.networks.SubNetwork object at 0x000001A24A3DD7F0> for snapshots Index(['now'], dtype='object', name='snapshot')\n"
     ]
    },
    {
     "name": "stdout",
     "output_type": "stream",
     "text": [
      "Sim converged: True\n",
      "Max error: 1.91e-07\n"
     ]
    },
    {
     "data": {
      "text/plain": [
       "name\n",
       "L48     0.000000\n",
       "L49   -98.551717\n",
       "L50   -98.551717\n",
       "L51   -98.551717\n",
       "Name: now, dtype: float64"
      ]
     },
     "execution_count": 31,
     "metadata": {},
     "output_type": "execute_result"
    }
   ],
   "source": [
    "# Disable one of the lines\n",
    "network.lines.loc[\"L48\", \"active\"] = False\n",
    "# make sure you clear the solve data for the disabled line \n",
    "# I'm sure there's a better way to do this, but I don't know how\n",
    "# The old solve data will stay where it is unless you explicitly do something about it\n",
    "network.lines_t['p0'].loc['now', 'L48'] = 0.0 # Clear old results \n",
    "\n",
    "# pf() sometimes has trouble converging - you can use lpf() if you want.\n",
    "if USE_LPF:\n",
    "    network.lpf() \n",
    "else:\n",
    "    info = network.pf() # \n",
    "    check_pf(info)\n",
    "\n",
    "# Now show the results \n",
    "network.lines_t['p0'].loc['now'][['L48', 'L49', 'L50', 'L51']]"
   ]
  },
  {
   "cell_type": "code",
   "execution_count": 32,
   "id": "36f6c545-48c9-421d-9a71-6c4c4809f971",
   "metadata": {},
   "outputs": [
    {
     "data": {
      "text/html": [
       "<div>\n",
       "<style scoped>\n",
       "    .dataframe tbody tr th:only-of-type {\n",
       "        vertical-align: middle;\n",
       "    }\n",
       "\n",
       "    .dataframe tbody tr th {\n",
       "        vertical-align: top;\n",
       "    }\n",
       "\n",
       "    .dataframe thead th {\n",
       "        text-align: right;\n",
       "    }\n",
       "</style>\n",
       "<table border=\"1\" class=\"dataframe\">\n",
       "  <thead>\n",
       "    <tr style=\"text-align: right;\">\n",
       "      <th></th>\n",
       "      <th>s_nom</th>\n",
       "      <th>p0_now</th>\n",
       "      <th>loading_frac</th>\n",
       "    </tr>\n",
       "    <tr>\n",
       "      <th>name</th>\n",
       "      <th></th>\n",
       "      <th></th>\n",
       "      <th></th>\n",
       "    </tr>\n",
       "  </thead>\n",
       "  <tbody>\n",
       "    <tr>\n",
       "      <th>L51</th>\n",
       "      <td>96.0</td>\n",
       "      <td>99.0</td>\n",
       "      <td>1.03</td>\n",
       "    </tr>\n",
       "    <tr>\n",
       "      <th>L49</th>\n",
       "      <td>96.0</td>\n",
       "      <td>99.0</td>\n",
       "      <td>1.03</td>\n",
       "    </tr>\n",
       "    <tr>\n",
       "      <th>L50</th>\n",
       "      <td>96.0</td>\n",
       "      <td>99.0</td>\n",
       "      <td>1.03</td>\n",
       "    </tr>\n",
       "    <tr>\n",
       "      <th>L67</th>\n",
       "      <td>70.0</td>\n",
       "      <td>54.0</td>\n",
       "      <td>0.77</td>\n",
       "    </tr>\n",
       "    <tr>\n",
       "      <th>L20</th>\n",
       "      <td>86.0</td>\n",
       "      <td>59.0</td>\n",
       "      <td>0.69</td>\n",
       "    </tr>\n",
       "  </tbody>\n",
       "</table>\n",
       "</div>"
      ],
      "text/plain": [
       "      s_nom  p0_now  loading_frac\n",
       "name                             \n",
       "L51    96.0    99.0          1.03\n",
       "L49    96.0    99.0          1.03\n",
       "L50    96.0    99.0          1.03\n",
       "L67    70.0    54.0          0.77\n",
       "L20    86.0    59.0          0.69"
      ]
     },
     "execution_count": 32,
     "metadata": {},
     "output_type": "execute_result"
    }
   ],
   "source": [
    "# Calculate the percent loading for everything in the network\n",
    "# Note that now some of the lines are overloaded \n",
    "p0 = network.lines_t['p0'].loc['now']\n",
    "p0.name = 'p0_now'\n",
    "p0_df = pd.DataFrame(p0)\n",
    "p0_df = p0_df['p0_now'].map(abs).round(0)\n",
    "\n",
    "df = pd.merge(s_nom, p0_df, how='inner', left_index=True, right_index=True)\n",
    "df['loading_frac'] = (1 - (df['s_nom'] - df['p0_now']) / df['s_nom']).round(2)\n",
    "df.sort_values(by='loading_frac', ascending=False).head()"
   ]
  },
  {
   "cell_type": "markdown",
   "id": "beb6c05a-6104-4e89-bdc9-ece82cf3c686",
   "metadata": {},
   "source": [
    "## Take another outage and solve\n",
    "\n",
    "Lets see how much worse things get if we disable another circuit. We call this an N-2 contingency.\n",
    "Things should start to get bad for the paralell circuits (L50, L51)"
   ]
  },
  {
   "cell_type": "code",
   "execution_count": 33,
   "id": "3020c167-7db0-45af-86dd-55be747e01b9",
   "metadata": {},
   "outputs": [
    {
     "name": "stderr",
     "output_type": "stream",
     "text": [
      "INFO:pypsa.network.power_flow:Performing non-linear load-flow on AC sub-network <pypsa.networks.SubNetwork object at 0x000001A24A464A10> for snapshots Index(['now'], dtype='object', name='snapshot')\n"
     ]
    },
    {
     "name": "stdout",
     "output_type": "stream",
     "text": [
      "Sim converged: True\n",
      "Max error: 3.98e-07\n"
     ]
    }
   ],
   "source": [
    "# Now disabled another circuit - something will break for sure\n",
    "network.lines.loc[\"L49\", \"active\"] = False\n",
    "network.lines_t['p0'].loc['now', 'L49'] = 0.0 # Clear old results\n",
    "if USE_LPF:\n",
    "    network.lpf() \n",
    "else:\n",
    "    info = network.pf() # \n",
    "    check_pf(info) "
   ]
  },
  {
   "cell_type": "code",
   "execution_count": 34,
   "id": "adaf3c90-769a-45b4-927a-bf3f3a9fbd44",
   "metadata": {},
   "outputs": [
    {
     "data": {
      "text/plain": [
       "name\n",
       "L48      0.00000\n",
       "L49      0.00000\n",
       "L50   -135.18757\n",
       "L51   -135.18757\n",
       "Name: now, dtype: float64"
      ]
     },
     "execution_count": 34,
     "metadata": {},
     "output_type": "execute_result"
    }
   ],
   "source": [
    "network.lines_t['p0'].loc['now'][['L48', 'L49', 'L50', 'L51']]"
   ]
  },
  {
   "cell_type": "code",
   "execution_count": 35,
   "id": "dd04a62b-029b-492a-a1ce-e6fcd6f2747e",
   "metadata": {},
   "outputs": [
    {
     "data": {
      "text/html": [
       "<div>\n",
       "<style scoped>\n",
       "    .dataframe tbody tr th:only-of-type {\n",
       "        vertical-align: middle;\n",
       "    }\n",
       "\n",
       "    .dataframe tbody tr th {\n",
       "        vertical-align: top;\n",
       "    }\n",
       "\n",
       "    .dataframe thead th {\n",
       "        text-align: right;\n",
       "    }\n",
       "</style>\n",
       "<table border=\"1\" class=\"dataframe\">\n",
       "  <thead>\n",
       "    <tr style=\"text-align: right;\">\n",
       "      <th></th>\n",
       "      <th>s_nom</th>\n",
       "      <th>p0_now</th>\n",
       "      <th>loading_frac</th>\n",
       "    </tr>\n",
       "    <tr>\n",
       "      <th>name</th>\n",
       "      <th></th>\n",
       "      <th></th>\n",
       "      <th></th>\n",
       "    </tr>\n",
       "  </thead>\n",
       "  <tbody>\n",
       "    <tr>\n",
       "      <th>L50</th>\n",
       "      <td>96.0</td>\n",
       "      <td>135.0</td>\n",
       "      <td>1.41</td>\n",
       "    </tr>\n",
       "    <tr>\n",
       "      <th>L51</th>\n",
       "      <td>96.0</td>\n",
       "      <td>135.0</td>\n",
       "      <td>1.41</td>\n",
       "    </tr>\n",
       "    <tr>\n",
       "      <th>L67</th>\n",
       "      <td>70.0</td>\n",
       "      <td>54.0</td>\n",
       "      <td>0.77</td>\n",
       "    </tr>\n",
       "    <tr>\n",
       "      <th>L9</th>\n",
       "      <td>76.0</td>\n",
       "      <td>53.0</td>\n",
       "      <td>0.70</td>\n",
       "    </tr>\n",
       "    <tr>\n",
       "      <th>L8</th>\n",
       "      <td>76.0</td>\n",
       "      <td>53.0</td>\n",
       "      <td>0.70</td>\n",
       "    </tr>\n",
       "  </tbody>\n",
       "</table>\n",
       "</div>"
      ],
      "text/plain": [
       "      s_nom  p0_now  loading_frac\n",
       "name                             \n",
       "L50    96.0   135.0          1.41\n",
       "L51    96.0   135.0          1.41\n",
       "L67    70.0    54.0          0.77\n",
       "L9     76.0    53.0          0.70\n",
       "L8     76.0    53.0          0.70"
      ]
     },
     "execution_count": 35,
     "metadata": {},
     "output_type": "execute_result"
    }
   ],
   "source": [
    "p0 = network.lines_t['p0'].loc['now']\n",
    "p0.name = 'p0_now'\n",
    "p0_df = pd.DataFrame(p0)\n",
    "p0_df = p0_df['p0_now'].map(abs).round(0)\n",
    "\n",
    "df = pd.merge(s_nom, p0_df, how='inner', left_index=True, right_index=True)\n",
    "df['loading_frac'] = (1 - (df['s_nom'] - df['p0_now']) / df['s_nom']).round(2)\n",
    "df.sort_values(by='loading_frac', ascending=False).head()"
   ]
  },
  {
   "cell_type": "code",
   "execution_count": null,
   "id": "09931aa8-2f58-487c-8f29-a4b514aa15f2",
   "metadata": {},
   "outputs": [],
   "source": []
  }
 ],
 "metadata": {
  "kernelspec": {
   "display_name": "Python 3 (ipykernel)",
   "language": "python",
   "name": "python3"
  },
  "language_info": {
   "codemirror_mode": {
    "name": "ipython",
    "version": 3
   },
   "file_extension": ".py",
   "mimetype": "text/x-python",
   "name": "python",
   "nbconvert_exporter": "python",
   "pygments_lexer": "ipython3",
   "version": "3.12.9"
  }
 },
 "nbformat": 4,
 "nbformat_minor": 5
}
