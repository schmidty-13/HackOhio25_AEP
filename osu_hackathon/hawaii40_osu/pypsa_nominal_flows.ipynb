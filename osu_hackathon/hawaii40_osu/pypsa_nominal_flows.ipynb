{
 "cells": [
  {
   "cell_type": "markdown",
   "id": "d1bbc984-0bef-431f-b1d2-e07aa330dd45",
   "metadata": {},
   "source": [
    "# Calculate and Save Nominal \n",
    "\n",
    "Calculate and save the nominal flows for the network. Ths flows are available in the original Hawaii40 case from Texas A&M,\n",
    "but are lost in the csv export. \n",
    "\n",
    "This notebook calcualtes and saves the flows for the project."
   ]
  },
  {
   "cell_type": "code",
   "execution_count": 1,
   "id": "1bfb256e-e053-4a95-b1c7-ce7ba5b6e165",
   "metadata": {},
   "outputs": [],
   "source": [
    "import pandas as pd\n",
    "import  io\n",
    "import pypsa"
   ]
  },
  {
   "cell_type": "code",
   "execution_count": 2,
   "id": "a7cbf3b5-b559-438d-b2b6-b011eb00f16f",
   "metadata": {},
   "outputs": [
    {
     "name": "stderr",
     "output_type": "stream",
     "text": [
      "WARNING:pypsa.network.io:Importing network from PyPSA version v0.35.2 while current version is v1.0.2. Read the release notes at `https://go.pypsa.org/release-notes` to prepare your network for import.\n",
      "INFO:pypsa.network.io:Imported network 'Unnamed Network' has buses, generators, lines, loads, shunt_impedances, transformers\n",
      "INFO:pypsa.network.power_flow:Performing non-linear load-flow on AC sub-network <pypsa.networks.SubNetwork object at 0x000001CE41187BF0> for snapshots Index(['now'], dtype='object', name='snapshot')\n"
     ]
    },
    {
     "name": "stdout",
     "output_type": "stream",
     "text": [
      "Sim converged: True\n",
      "Max error: 1.21e-07\n"
     ]
    }
   ],
   "source": [
    "import pypsa\n",
    "network = pypsa.Network()\n",
    "network.import_from_csv_folder('csv')\n",
    "info = network.pf() # Full powerflow\n",
    "\n",
    "converged = info.converged.any().any()\n",
    "max_error = info.error.max().max()\n",
    "print(f\"Sim converged: {converged}\")\n",
    "print(f\"Max error: {max_error:.2e}\")"
   ]
  },
  {
   "cell_type": "code",
   "execution_count": 4,
   "id": "88ca13a2-4d3c-404e-8731-4af1b86e1ec4",
   "metadata": {},
   "outputs": [
    {
     "data": {
      "text/html": [
       "<div>\n",
       "<style scoped>\n",
       "    .dataframe tbody tr th:only-of-type {\n",
       "        vertical-align: middle;\n",
       "    }\n",
       "\n",
       "    .dataframe tbody tr th {\n",
       "        vertical-align: top;\n",
       "    }\n",
       "\n",
       "    .dataframe thead th {\n",
       "        text-align: right;\n",
       "    }\n",
       "</style>\n",
       "<table border=\"1\" class=\"dataframe\">\n",
       "  <thead>\n",
       "    <tr style=\"text-align: right;\">\n",
       "      <th></th>\n",
       "      <th>s_nom</th>\n",
       "    </tr>\n",
       "    <tr>\n",
       "      <th>name</th>\n",
       "      <th></th>\n",
       "    </tr>\n",
       "  </thead>\n",
       "  <tbody>\n",
       "    <tr>\n",
       "      <th>L0</th>\n",
       "      <td>228.0</td>\n",
       "    </tr>\n",
       "    <tr>\n",
       "      <th>L1</th>\n",
       "      <td>228.0</td>\n",
       "    </tr>\n",
       "    <tr>\n",
       "      <th>L2</th>\n",
       "      <td>172.0</td>\n",
       "    </tr>\n",
       "    <tr>\n",
       "      <th>L3</th>\n",
       "      <td>215.0</td>\n",
       "    </tr>\n",
       "    <tr>\n",
       "      <th>L4</th>\n",
       "      <td>215.0</td>\n",
       "    </tr>\n",
       "  </tbody>\n",
       "</table>\n",
       "</div>"
      ],
      "text/plain": [
       "      s_nom\n",
       "name       \n",
       "L0    228.0\n",
       "L1    228.0\n",
       "L2    172.0\n",
       "L3    215.0\n",
       "L4    215.0"
      ]
     },
     "execution_count": 4,
     "metadata": {},
     "output_type": "execute_result"
    }
   ],
   "source": [
    "# Get all the nomainal ratings - this is the same data in lines.csv\n",
    "network.lines[['s_nom']].head()"
   ]
  },
  {
   "cell_type": "code",
   "execution_count": 5,
   "id": "4e7b762f-68b6-4b84-a6c4-9d3c8e0c467f",
   "metadata": {},
   "outputs": [
    {
     "data": {
      "text/html": [
       "<div>\n",
       "<style scoped>\n",
       "    .dataframe tbody tr th:only-of-type {\n",
       "        vertical-align: middle;\n",
       "    }\n",
       "\n",
       "    .dataframe tbody tr th {\n",
       "        vertical-align: top;\n",
       "    }\n",
       "\n",
       "    .dataframe thead th {\n",
       "        text-align: right;\n",
       "    }\n",
       "</style>\n",
       "<table border=\"1\" class=\"dataframe\">\n",
       "  <thead>\n",
       "    <tr style=\"text-align: right;\">\n",
       "      <th>name</th>\n",
       "      <th>L0</th>\n",
       "      <th>L1</th>\n",
       "      <th>L2</th>\n",
       "      <th>L3</th>\n",
       "      <th>L4</th>\n",
       "      <th>L5</th>\n",
       "      <th>L6</th>\n",
       "      <th>L7</th>\n",
       "      <th>L8</th>\n",
       "      <th>L9</th>\n",
       "      <th>...</th>\n",
       "      <th>L67</th>\n",
       "      <th>L68</th>\n",
       "      <th>L69</th>\n",
       "      <th>L70</th>\n",
       "      <th>L71</th>\n",
       "      <th>L72</th>\n",
       "      <th>L73</th>\n",
       "      <th>L74</th>\n",
       "      <th>L75</th>\n",
       "      <th>L76</th>\n",
       "    </tr>\n",
       "    <tr>\n",
       "      <th>snapshot</th>\n",
       "      <th></th>\n",
       "      <th></th>\n",
       "      <th></th>\n",
       "      <th></th>\n",
       "      <th></th>\n",
       "      <th></th>\n",
       "      <th></th>\n",
       "      <th></th>\n",
       "      <th></th>\n",
       "      <th></th>\n",
       "      <th></th>\n",
       "      <th></th>\n",
       "      <th></th>\n",
       "      <th></th>\n",
       "      <th></th>\n",
       "      <th></th>\n",
       "      <th></th>\n",
       "      <th></th>\n",
       "      <th></th>\n",
       "      <th></th>\n",
       "      <th></th>\n",
       "    </tr>\n",
       "  </thead>\n",
       "  <tbody>\n",
       "    <tr>\n",
       "      <th>now</th>\n",
       "      <td>79.168558</td>\n",
       "      <td>79.168558</td>\n",
       "      <td>-22.449716</td>\n",
       "      <td>-66.694086</td>\n",
       "      <td>-66.694086</td>\n",
       "      <td>-61.553733</td>\n",
       "      <td>-61.553733</td>\n",
       "      <td>37.115632</td>\n",
       "      <td>45.596813</td>\n",
       "      <td>45.596813</td>\n",
       "      <td>...</td>\n",
       "      <td>53.65</td>\n",
       "      <td>36.556723</td>\n",
       "      <td>36.556723</td>\n",
       "      <td>33.366553</td>\n",
       "      <td>12.794867</td>\n",
       "      <td>32.418296</td>\n",
       "      <td>23.08446</td>\n",
       "      <td>-18.661974</td>\n",
       "      <td>-18.661974</td>\n",
       "      <td>24.980921</td>\n",
       "    </tr>\n",
       "  </tbody>\n",
       "</table>\n",
       "<p>1 rows × 77 columns</p>\n",
       "</div>"
      ],
      "text/plain": [
       "name             L0         L1         L2         L3         L4         L5  \\\n",
       "snapshot                                                                     \n",
       "now       79.168558  79.168558 -22.449716 -66.694086 -66.694086 -61.553733   \n",
       "\n",
       "name             L6         L7         L8         L9  ...    L67        L68  \\\n",
       "snapshot                                              ...                     \n",
       "now      -61.553733  37.115632  45.596813  45.596813  ...  53.65  36.556723   \n",
       "\n",
       "name            L69        L70        L71        L72       L73        L74  \\\n",
       "snapshot                                                                    \n",
       "now       36.556723  33.366553  12.794867  32.418296  23.08446 -18.661974   \n",
       "\n",
       "name            L75        L76  \n",
       "snapshot                        \n",
       "now      -18.661974  24.980921  \n",
       "\n",
       "[1 rows x 77 columns]"
      ]
     },
     "execution_count": 5,
     "metadata": {},
     "output_type": "execute_result"
    }
   ],
   "source": [
    "# When we solve the case, the results are stored in the line_t dataframe. \n",
    "# real power MW for each line at p0=bus0. The flow is the same at p1=bus1 \n",
    "network.lines_t['p0']"
   ]
  },
  {
   "cell_type": "markdown",
   "id": "5e0d69eb-a06d-4a30-aa4c-49a26a3120ac",
   "metadata": {},
   "source": [
    "## Export flows to CSV\n",
    "\n",
    "Export the flows to CSV. These flows are valid until you change the network by taking a line out of service. \n",
    "You can use these flows for the entire project until you get into the bonus objectives which require modifying and solving the model"
   ]
  },
  {
   "cell_type": "code",
   "execution_count": 10,
   "id": "0d9cd08a-8c28-4054-a1df-7768b92eda8a",
   "metadata": {},
   "outputs": [
    {
     "data": {
      "text/html": [
       "<div>\n",
       "<style scoped>\n",
       "    .dataframe tbody tr th:only-of-type {\n",
       "        vertical-align: middle;\n",
       "    }\n",
       "\n",
       "    .dataframe tbody tr th {\n",
       "        vertical-align: top;\n",
       "    }\n",
       "\n",
       "    .dataframe thead th {\n",
       "        text-align: right;\n",
       "    }\n",
       "</style>\n",
       "<table border=\"1\" class=\"dataframe\">\n",
       "  <thead>\n",
       "    <tr style=\"text-align: right;\">\n",
       "      <th></th>\n",
       "      <th>p0_nominal</th>\n",
       "    </tr>\n",
       "    <tr>\n",
       "      <th>name</th>\n",
       "      <th></th>\n",
       "    </tr>\n",
       "  </thead>\n",
       "  <tbody>\n",
       "    <tr>\n",
       "      <th>L0</th>\n",
       "      <td>79.168558</td>\n",
       "    </tr>\n",
       "    <tr>\n",
       "      <th>L1</th>\n",
       "      <td>79.168558</td>\n",
       "    </tr>\n",
       "    <tr>\n",
       "      <th>L2</th>\n",
       "      <td>-22.449716</td>\n",
       "    </tr>\n",
       "    <tr>\n",
       "      <th>L3</th>\n",
       "      <td>-66.694086</td>\n",
       "    </tr>\n",
       "    <tr>\n",
       "      <th>L4</th>\n",
       "      <td>-66.694086</td>\n",
       "    </tr>\n",
       "  </tbody>\n",
       "</table>\n",
       "</div>"
      ],
      "text/plain": [
       "      p0_nominal\n",
       "name            \n",
       "L0     79.168558\n",
       "L1     79.168558\n",
       "L2    -22.449716\n",
       "L3    -66.694086\n",
       "L4    -66.694086"
      ]
     },
     "execution_count": 10,
     "metadata": {},
     "output_type": "execute_result"
    }
   ],
   "source": [
    "# pivot to tall dataframe\n",
    "# This will be series instead of a dataframe\n",
    "p0_now = network.lines_t['p0'].loc['now']\n",
    "p0_now.name = 'p0_nominal' # rename series \n",
    "\n",
    "# Change to dataframe to make merge/join easier. There's probably a better way to do this, but I don't care\n",
    "p0_df = pd.DataFrame(p0_now)\n",
    "p0_df.head()"
   ]
  },
  {
   "cell_type": "code",
   "execution_count": 12,
   "id": "7891fb1d-ad92-41d0-b13f-b8a2c5ef5544",
   "metadata": {},
   "outputs": [],
   "source": [
    "# use abs() because direction doesn't matter\n",
    "# Ratings are typically rounded to nearest int\n",
    "# p0_df = p0_df['p0_now'].map(abs).round(0)\n",
    "p0_df = p0_df['p0_nominal'].map(abs)\n",
    "p0_df.to_csv('line_flows_nominal.csv') "
   ]
  },
  {
   "cell_type": "code",
   "execution_count": null,
   "id": "28138146-691f-4d76-8b62-6d98c1ebef30",
   "metadata": {},
   "outputs": [],
   "source": []
  }
 ],
 "metadata": {
  "kernelspec": {
   "display_name": "Python 3 (ipykernel)",
   "language": "python",
   "name": "python3"
  },
  "language_info": {
   "codemirror_mode": {
    "name": "ipython",
    "version": 3
   },
   "file_extension": ".py",
   "mimetype": "text/x-python",
   "name": "python",
   "nbconvert_exporter": "python",
   "pygments_lexer": "ipython3",
   "version": "3.12.9"
  }
 },
 "nbformat": 4,
 "nbformat_minor": 5
}
